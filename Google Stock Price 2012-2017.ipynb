{
 "cells": [
  {
   "cell_type": "code",
   "execution_count": 279,
   "metadata": {},
   "outputs": [],
   "source": [
    "import numpy as np\n",
    "import pandas as pd\n",
    "import matplotlib.pyplot as plt"
   ]
  },
  {
   "cell_type": "code",
   "execution_count": 280,
   "metadata": {},
   "outputs": [],
   "source": [
    "dataset_training=pd.read_csv('Google_Stock_Price_Train.csv')\n",
    "dataset_training=dataset_training['Open'].values"
   ]
  },
  {
   "cell_type": "code",
   "execution_count": 281,
   "metadata": {},
   "outputs": [
    {
     "data": {
      "text/plain": [
       "array([[325.25],\n",
       "       [331.27],\n",
       "       [329.83],\n",
       "       ...,\n",
       "       [793.7 ],\n",
       "       [783.33],\n",
       "       [782.75]])"
      ]
     },
     "execution_count": 281,
     "metadata": {},
     "output_type": "execute_result"
    }
   ],
   "source": [
    "dataset_training=np.reshape(dataset_training,(-1,1))\n",
    "dataset_training"
   ]
  },
  {
   "cell_type": "code",
   "execution_count": 282,
   "metadata": {},
   "outputs": [],
   "source": [
    "from sklearn.preprocessing import MinMaxScaler\n",
    "sc=MinMaxScaler(feature_range=(0,1))\n",
    "dataset_training=sc.fit_transform(dataset_training)"
   ]
  },
  {
   "cell_type": "code",
   "execution_count": 283,
   "metadata": {},
   "outputs": [],
   "source": [
    "X_Train=[]\n",
    "Y_Train=[]\n",
    "for i in range(60,len(dataset_training)):\n",
    "    X_Train.append(dataset_training[i-60:i,0])\n",
    "    Y_Train.append(dataset_training[i,0])"
   ]
  },
  {
   "cell_type": "code",
   "execution_count": 284,
   "metadata": {},
   "outputs": [],
   "source": [
    "X_Train=np.array(X_Train)\n",
    "Y_Train=np.array(Y_Train)"
   ]
  },
  {
   "cell_type": "code",
   "execution_count": 285,
   "metadata": {},
   "outputs": [],
   "source": [
    "X_Train=np.reshape(X_Train,(X_Train.shape[0],X_Train.shape[1],1))"
   ]
  },
  {
   "cell_type": "code",
   "execution_count": 286,
   "metadata": {},
   "outputs": [],
   "source": [
    "from keras.models import Sequential\n",
    "from keras.layers import Dense\n",
    "from keras.layers import LSTM\n",
    "from keras.layers import Dropout"
   ]
  },
  {
   "cell_type": "code",
   "execution_count": 287,
   "metadata": {},
   "outputs": [],
   "source": [
    "regressor=Sequential()"
   ]
  },
  {
   "cell_type": "code",
   "execution_count": 288,
   "metadata": {},
   "outputs": [],
   "source": [
    "regressor.add(LSTM(units=100,return_sequences=True,input_shape=(X_Train.shape[1],1)))\n",
    "regressor.add(Dropout(0.2))\n",
    "regressor.add(LSTM(units=100,return_sequences=True))\n",
    "regressor.add(Dropout(0.2))\n",
    "regressor.add(LSTM(units=100,return_sequences=True))\n",
    "regressor.add(Dropout(0.2))\n",
    "regressor.add(LSTM(units=100,return_sequences=False))\n",
    "regressor.add(Dropout(0.2))\n",
    "regressor.add(Dense(units=1))"
   ]
  },
  {
   "cell_type": "code",
   "execution_count": 289,
   "metadata": {},
   "outputs": [],
   "source": [
    "regressor.compile(optimizer='adam',loss='mean_squared_error')"
   ]
  },
  {
   "cell_type": "code",
   "execution_count": 290,
   "metadata": {},
   "outputs": [
    {
     "name": "stdout",
     "output_type": "stream",
     "text": [
      "Epoch 1/100\n",
      "1198/1198 [==============================] - 7s 6ms/step - loss: 0.0333\n",
      "Epoch 2/100\n",
      "1198/1198 [==============================] - 3s 3ms/step - loss: 0.0044\n",
      "Epoch 3/100\n",
      "1198/1198 [==============================] - 3s 3ms/step - loss: 0.0038\n",
      "Epoch 4/100\n",
      "1198/1198 [==============================] - 3s 3ms/step - loss: 0.0037\n",
      "Epoch 5/100\n",
      "1198/1198 [==============================] - 3s 3ms/step - loss: 0.0033\n",
      "Epoch 6/100\n",
      "1198/1198 [==============================] - 3s 3ms/step - loss: 0.0032\n",
      "Epoch 7/100\n",
      "1198/1198 [==============================] - 3s 3ms/step - loss: 0.0033\n",
      "Epoch 8/100\n",
      "1198/1198 [==============================] - 3s 3ms/step - loss: 0.0034\n",
      "Epoch 9/100\n",
      "1198/1198 [==============================] - 3s 3ms/step - loss: 0.0037\n",
      "Epoch 10/100\n",
      "1198/1198 [==============================] - 3s 3ms/step - loss: 0.0034\n",
      "Epoch 11/100\n",
      "1198/1198 [==============================] - 3s 3ms/step - loss: 0.0032\n",
      "Epoch 12/100\n",
      "1198/1198 [==============================] - 3s 3ms/step - loss: 0.0033\n",
      "Epoch 13/100\n",
      "1198/1198 [==============================] - 3s 3ms/step - loss: 0.0034\n",
      "Epoch 14/100\n",
      "1198/1198 [==============================] - 4s 3ms/step - loss: 0.0029\n",
      "Epoch 15/100\n",
      "1198/1198 [==============================] - 3s 3ms/step - loss: 0.0030\n",
      "Epoch 16/100\n",
      "1198/1198 [==============================] - 3s 3ms/step - loss: 0.0029\n",
      "Epoch 17/100\n",
      "1198/1198 [==============================] - 3s 3ms/step - loss: 0.0027\n",
      "Epoch 18/100\n",
      "1198/1198 [==============================] - 4s 3ms/step - loss: 0.0027\n",
      "Epoch 19/100\n",
      "1198/1198 [==============================] - 4s 3ms/step - loss: 0.0025\n",
      "Epoch 20/100\n",
      "1198/1198 [==============================] - 4s 3ms/step - loss: 0.0023\n",
      "Epoch 21/100\n",
      "1198/1198 [==============================] - 3s 3ms/step - loss: 0.0025\n",
      "Epoch 22/100\n",
      "1198/1198 [==============================] - 3s 3ms/step - loss: 0.0024\n",
      "Epoch 23/100\n",
      "1198/1198 [==============================] - 3s 3ms/step - loss: 0.0023\n",
      "Epoch 24/100\n",
      "1198/1198 [==============================] - 3s 3ms/step - loss: 0.0025\n",
      "Epoch 25/100\n",
      "1198/1198 [==============================] - 3s 3ms/step - loss: 0.0023\n",
      "Epoch 26/100\n",
      "1198/1198 [==============================] - 4s 3ms/step - loss: 0.0022\n",
      "Epoch 27/100\n",
      "1198/1198 [==============================] - 3s 3ms/step - loss: 0.0019\n",
      "Epoch 28/100\n",
      "1198/1198 [==============================] - 4s 3ms/step - loss: 0.0025\n",
      "Epoch 29/100\n",
      "1198/1198 [==============================] - 4s 3ms/step - loss: 0.0022\n",
      "Epoch 30/100\n",
      "1198/1198 [==============================] - 4s 3ms/step - loss: 0.0021\n",
      "Epoch 31/100\n",
      "1198/1198 [==============================] - 4s 3ms/step - loss: 0.0020\n",
      "Epoch 32/100\n",
      "1198/1198 [==============================] - 4s 3ms/step - loss: 0.0021\n",
      "Epoch 33/100\n",
      "1198/1198 [==============================] - 4s 3ms/step - loss: 0.0018\n",
      "Epoch 34/100\n",
      "1198/1198 [==============================] - 4s 3ms/step - loss: 0.0019\n",
      "Epoch 35/100\n",
      "1198/1198 [==============================] - 4s 3ms/step - loss: 0.0020\n",
      "Epoch 36/100\n",
      "1198/1198 [==============================] - 4s 3ms/step - loss: 0.0018\n",
      "Epoch 37/100\n",
      "1198/1198 [==============================] - 3s 3ms/step - loss: 0.0018\n",
      "Epoch 38/100\n",
      "1198/1198 [==============================] - 3s 3ms/step - loss: 0.0019\n",
      "Epoch 39/100\n",
      "1198/1198 [==============================] - 4s 3ms/step - loss: 0.0016\n",
      "Epoch 40/100\n",
      "1198/1198 [==============================] - 3s 3ms/step - loss: 0.0020\n",
      "Epoch 41/100\n",
      "1198/1198 [==============================] - 3s 3ms/step - loss: 0.0019\n",
      "Epoch 42/100\n",
      "1198/1198 [==============================] - 4s 3ms/step - loss: 0.0018\n",
      "Epoch 43/100\n",
      "1198/1198 [==============================] - 3s 3ms/step - loss: 0.0019\n",
      "Epoch 44/100\n",
      "1198/1198 [==============================] - 3s 3ms/step - loss: 0.0017\n",
      "Epoch 45/100\n",
      "1198/1198 [==============================] - 3s 3ms/step - loss: 0.0016\n",
      "Epoch 46/100\n",
      "1198/1198 [==============================] - 4s 3ms/step - loss: 0.0016\n",
      "Epoch 47/100\n",
      "1198/1198 [==============================] - 3s 3ms/step - loss: 0.0017\n",
      "Epoch 48/100\n",
      "1198/1198 [==============================] - 4s 3ms/step - loss: 0.0016\n",
      "Epoch 49/100\n",
      "1198/1198 [==============================] - 4s 3ms/step - loss: 0.0016\n",
      "Epoch 50/100\n",
      "1198/1198 [==============================] - 4s 3ms/step - loss: 0.0015\n",
      "Epoch 51/100\n",
      "1198/1198 [==============================] - 4s 3ms/step - loss: 0.0018\n",
      "Epoch 52/100\n",
      "1198/1198 [==============================] - 4s 3ms/step - loss: 0.0015\n",
      "Epoch 53/100\n",
      "1198/1198 [==============================] - 4s 3ms/step - loss: 0.0016\n",
      "Epoch 54/100\n",
      "1198/1198 [==============================] - 3s 3ms/step - loss: 0.0015\n",
      "Epoch 55/100\n",
      "1198/1198 [==============================] - 4s 3ms/step - loss: 0.0013\n",
      "Epoch 56/100\n",
      "1198/1198 [==============================] - 4s 3ms/step - loss: 0.0015\n",
      "Epoch 57/100\n",
      "1198/1198 [==============================] - 3s 3ms/step - loss: 0.0015\n",
      "Epoch 58/100\n",
      "1198/1198 [==============================] - 3s 3ms/step - loss: 0.0015\n",
      "Epoch 59/100\n",
      "1198/1198 [==============================] - 4s 3ms/step - loss: 0.0014\n",
      "Epoch 60/100\n",
      "1198/1198 [==============================] - 4s 3ms/step - loss: 0.0014\n",
      "Epoch 61/100\n",
      "1198/1198 [==============================] - 4s 3ms/step - loss: 0.0016\n",
      "Epoch 62/100\n",
      "1198/1198 [==============================] - 4s 3ms/step - loss: 0.0013\n",
      "Epoch 63/100\n",
      "1198/1198 [==============================] - 3s 3ms/step - loss: 0.0015\n",
      "Epoch 64/100\n",
      "1198/1198 [==============================] - 3s 3ms/step - loss: 0.0014\n",
      "Epoch 65/100\n",
      "1198/1198 [==============================] - 3s 3ms/step - loss: 0.0014\n",
      "Epoch 66/100\n",
      "1198/1198 [==============================] - 3s 3ms/step - loss: 0.0013\n",
      "Epoch 67/100\n",
      "1198/1198 [==============================] - 3s 3ms/step - loss: 0.0014\n",
      "Epoch 68/100\n",
      "1198/1198 [==============================] - 3s 3ms/step - loss: 0.0012\n",
      "Epoch 69/100\n",
      "1198/1198 [==============================] - 3s 3ms/step - loss: 0.0015\n",
      "Epoch 70/100\n",
      "1198/1198 [==============================] - 3s 3ms/step - loss: 0.0013\n",
      "Epoch 71/100\n",
      "1198/1198 [==============================] - 3s 3ms/step - loss: 0.0013A: \n",
      "Epoch 72/100\n",
      "1198/1198 [==============================] - 3s 3ms/step - loss: 0.0013\n",
      "Epoch 73/100\n",
      "1198/1198 [==============================] - 4s 3ms/step - loss: 0.0013\n",
      "Epoch 74/100\n",
      "1198/1198 [==============================] - 3s 3ms/step - loss: 0.0013\n",
      "Epoch 75/100\n",
      "1198/1198 [==============================] - 3s 3ms/step - loss: 0.0013\n",
      "Epoch 76/100\n",
      "1198/1198 [==============================] - 3s 3ms/step - loss: 0.0012\n",
      "Epoch 77/100\n",
      "1198/1198 [==============================] - 3s 3ms/step - loss: 0.0013\n",
      "Epoch 78/100\n",
      "1198/1198 [==============================] - 3s 3ms/step - loss: 0.0011\n",
      "Epoch 79/100\n",
      "1198/1198 [==============================] - 3s 3ms/step - loss: 0.0013\n",
      "Epoch 80/100\n",
      "1198/1198 [==============================] - 3s 3ms/step - loss: 0.0012\n",
      "Epoch 81/100\n",
      "1198/1198 [==============================] - 3s 3ms/step - loss: 0.0014\n",
      "Epoch 82/100\n",
      "1198/1198 [==============================] - 3s 3ms/step - loss: 0.0013\n",
      "Epoch 83/100\n",
      "1198/1198 [==============================] - 3s 3ms/step - loss: 0.0012\n",
      "Epoch 84/100\n",
      "1198/1198 [==============================] - 3s 3ms/step - loss: 0.0013\n",
      "Epoch 85/100\n",
      "1198/1198 [==============================] - 3s 3ms/step - loss: 0.0010\n",
      "Epoch 86/100\n",
      "1198/1198 [==============================] - 3s 3ms/step - loss: 0.0011\n",
      "Epoch 87/100\n",
      "1198/1198 [==============================] - 3s 3ms/step - loss: 0.0012\n",
      "Epoch 88/100\n",
      "1198/1198 [==============================] - 3s 3ms/step - loss: 0.0012\n",
      "Epoch 89/100\n",
      "1198/1198 [==============================] - 3s 3ms/step - loss: 0.0011\n",
      "Epoch 90/100\n",
      "1198/1198 [==============================] - 4s 3ms/step - loss: 0.0011\n",
      "Epoch 91/100\n",
      "1198/1198 [==============================] - 3s 3ms/step - loss: 0.0013\n",
      "Epoch 92/100\n",
      "1198/1198 [==============================] - 3s 3ms/step - loss: 0.0011\n",
      "Epoch 93/100\n",
      "1198/1198 [==============================] - 3s 3ms/step - loss: 0.0011\n",
      "Epoch 94/100\n",
      "1198/1198 [==============================] - 3s 3ms/step - loss: 8.9935e-04\n",
      "Epoch 95/100\n",
      "1198/1198 [==============================] - 4s 3ms/step - loss: 9.9337e-04\n",
      "Epoch 96/100\n",
      "1198/1198 [==============================] - 4s 3ms/step - loss: 0.0011\n",
      "Epoch 97/100\n"
     ]
    },
    {
     "name": "stdout",
     "output_type": "stream",
     "text": [
      "1198/1198 [==============================] - 3s 3ms/step - loss: 0.0010\n",
      "Epoch 98/100\n",
      "1198/1198 [==============================] - 3s 3ms/step - loss: 9.9782e-04\n",
      "Epoch 99/100\n",
      "1198/1198 [==============================] - 3s 3ms/step - loss: 0.0010\n",
      "Epoch 100/100\n",
      "1198/1198 [==============================] - 3s 3ms/step - loss: 0.0010\n"
     ]
    },
    {
     "data": {
      "text/plain": [
       "<keras.callbacks.History at 0x1f6eee974a8>"
      ]
     },
     "execution_count": 290,
     "metadata": {},
     "output_type": "execute_result"
    }
   ],
   "source": [
    "regressor.fit(X_Train,Y_Train,epochs=100,batch_size=32)"
   ]
  },
  {
   "cell_type": "code",
   "execution_count": 291,
   "metadata": {},
   "outputs": [],
   "source": [
    "dataset_test=pd.read_csv('Google_Stock_Price_Test.csv')"
   ]
  },
  {
   "cell_type": "code",
   "execution_count": 292,
   "metadata": {},
   "outputs": [],
   "source": [
    "dataset_train=pd.read_csv('Google_Stock_Price_Train.csv')"
   ]
  },
  {
   "cell_type": "code",
   "execution_count": 293,
   "metadata": {},
   "outputs": [],
   "source": [
    "dataset_total=pd.concat((dataset_train ['Open'],dataset_test['Open']),axis=0)\n",
    "dataset_total=dataset_total.values\n",
    "dataset_total=dataset_total[len(dataset_total)-dataset_test.shape[0]-60:]\n",
    "dataset_total=np.reshape(dataset_total,(-1,1))\n",
    "dataset_total=sc.transform(dataset_total)"
   ]
  },
  {
   "cell_type": "code",
   "execution_count": 294,
   "metadata": {},
   "outputs": [],
   "source": [
    "inputs=[]\n",
    "for i in range(60,80):\n",
    "    inputs.append(dataset_total[i-60:i])\n",
    "inputs=np.array(inputs) \n",
    "inputs=np.reshape(inputs,(inputs.shape[0],inputs.shape[1],1))"
   ]
  },
  {
   "cell_type": "code",
   "execution_count": 295,
   "metadata": {},
   "outputs": [],
   "source": [
    "predicted_stock_price=regressor.predict(inputs)"
   ]
  },
  {
   "cell_type": "code",
   "execution_count": 296,
   "metadata": {},
   "outputs": [
    {
     "data": {
      "text/plain": [
       "array([[769.98   ],\n",
       "       [767.51227],\n",
       "       [772.3272 ],\n",
       "       [773.7914 ],\n",
       "       [777.8467 ],\n",
       "       [785.75635],\n",
       "       [789.25775],\n",
       "       [787.4121 ],\n",
       "       [787.6509 ],\n",
       "       [789.24133],\n",
       "       [790.1298 ],\n",
       "       [789.61993],\n",
       "       [789.00037],\n",
       "       [790.09814],\n",
       "       [791.0679 ],\n",
       "       [799.9607 ],\n",
       "       [807.8991 ],\n",
       "       [813.78375],\n",
       "       [812.82294],\n",
       "       [800.39514]], dtype=float32)"
      ]
     },
     "execution_count": 296,
     "metadata": {},
     "output_type": "execute_result"
    }
   ],
   "source": [
    "predicted_stock_price=sc.inverse_transform(predicted_stock_price)\n",
    "predicted_stock_price"
   ]
  },
  {
   "cell_type": "code",
   "execution_count": 297,
   "metadata": {},
   "outputs": [],
   "source": [
    "real_stock_price=dataset_test['Open'].values"
   ]
  },
  {
   "cell_type": "code",
   "execution_count": 298,
   "metadata": {},
   "outputs": [
    {
     "data": {
      "text/plain": [
       "array([778.81, 788.36, 786.08, 795.26, 806.4 , 807.86, 805.  , 807.14,\n",
       "       807.48, 807.08, 805.81, 805.12, 806.91, 807.25, 822.3 , 829.62,\n",
       "       837.81, 834.71, 814.66, 796.86])"
      ]
     },
     "execution_count": 298,
     "metadata": {},
     "output_type": "execute_result"
    }
   ],
   "source": [
    "real_stock_price"
   ]
  },
  {
   "cell_type": "code",
   "execution_count": 299,
   "metadata": {},
   "outputs": [
    {
     "data": {
      "image/png": "[encoded data removed]",
      "text/plain": [
       "<Figure size 432x288 with 1 Axes>"
      ]
     },
     "metadata": {},
     "output_type": "display_data"
    }
   ],
   "source": [
    "plt.plot(predicted_stock_price,color='r',label='Predicted Stock Price')\n",
    "plt.plot(real_stock_price,color='g',label='Real Stock Price')\n",
    "plt.xlabel('Days')\n",
    "plt.ylabel('Stock Price')\n",
    "plt.legend()\n",
    "plt.show()"
   ]
  }
 ],
 "metadata": {
  "kernelspec": {
   "display_name": "Python 3",
   "language": "python",
   "name": "python3"
  },
  "language_info": {
   "codemirror_mode": {
    "name": "ipython",
    "version": 3
   },
   "file_extension": ".py",
   "mimetype": "text/x-python",
   "name": "python",
   "nbconvert_exporter": "python",
   "pygments_lexer": "ipython3",
   "version": "3.6.5"
  }
 },
 "nbformat": 4,
 "nbformat_minor": 2
}
